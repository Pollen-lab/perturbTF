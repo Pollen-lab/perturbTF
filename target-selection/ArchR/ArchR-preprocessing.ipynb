{
 "cells": [
  {
   "cell_type": "markdown",
   "metadata": {
    "button": false,
    "new_sheet": false
   },
   "source": [
    "# Prelim"
   ]
  },
  {
   "cell_type": "markdown",
   "metadata": {
    "button": false,
    "new_sheet": false
   },
   "source": [
    "Notebook for ArchR preprocessing \n",
    "\n",
    "The results in the notebook were genreated using the 10X PBMC ATAC dataset: https://support.10xgenomics.com/single-cell-atac/datasets/1.2.0/atac_pbmc_10k_nextgem\n",
    "\n",
    "<b>ArchR installation </b>\n",
    "\n",
    "Install from [https://github.com/settylab/ArchR](https://github.com/settylab/ArchR)\n",
    "\n",
    "```\n",
    "library(devtools)\n",
    "devtools::install_github(\"GreenleafLab/ArchR\", ref=\"master\", repos = BiocManager::repositories())\n",
    "```\n",
    "\n",
    "Update your ArchR with the customized version\n",
    "```\n",
    "R CMD INSTALL -l <PATH to R personal library> <path to Git clone >\n",
    "```\n",
    "\n",
    "Review the notebook `PBMC-RNA-standalone.ipynb` for setup instructions.\n",
    "Install MACS2 for peak celling \n",
    "```\n",
    "conda install -c bioconda macs2 \n",
    "```\n",
    "\n"
   ]
  },
  {
   "cell_type": "markdown",
   "metadata": {},
   "source": [
    "## Load data"
   ]
  },
  {
   "cell_type": "markdown",
   "metadata": {},
   "source": [
    "Following files are required for using these tools:\n",
    "1. ATAC fragments file. [Example](https://fh-pi-setty-m-eco-public.s3.us-west-2.amazonaws.com/single-cell-primers/scatac/atac_pbmc_10k_nextgem_fragments.tsv.gz)\n",
    "2. Index for the fragments file. [Example](https://fh-pi-setty-m-eco-public.s3.us-west-2.amazonaws.com/single-cell-primers/scatac/atac_pbmc_10k_nextgem_fragments.tsv.gz.tbi)\n",
    "3. Per barcode metrics. [Example](https://fh-pi-setty-m-eco-public.s3.us-west-2.amazonaws.com/single-cell-primers/scatac/atac_pbmc_10k_nextgem_singlecell.csv)\n",
    "\n",
    "Use the above files to run ArchR using the ArchR preprocessing script: https://github.com/dpeerlab/SEACells/blob/main/notebooks/ArchR/ArchR-preprocessing-nfr-peaks.R\n"
   ]
  },
  {
   "cell_type": "markdown",
   "metadata": {},
   "source": [
    "# Imports"
   ]
  },
  {
   "cell_type": "code",
   "execution_count": 1,
   "metadata": {
    "ExecuteTime": {
     "end_time": "2022-03-31T06:18:49.453905Z",
     "start_time": "2022-03-31T06:18:47.081257Z"
    },
    "button": false,
    "new_sheet": false
   },
   "outputs": [],
   "source": [
    "import os\n",
    "import pandas as pd\n",
    "import numpy as np\n",
    "\n",
    "import scanpy as sc\n",
    "import pyranges as pr\n",
    "import warnings"
   ]
  },
  {
   "cell_type": "code",
   "execution_count": 2,
   "metadata": {
    "ExecuteTime": {
     "end_time": "2022-03-31T06:18:49.550596Z",
     "start_time": "2022-03-31T06:18:49.456031Z"
    },
    "button": false,
    "new_sheet": false
   },
   "outputs": [],
   "source": [
    "import matplotlib\n",
    "import matplotlib.pyplot as plt\n",
    "import seaborn as sns"
   ]
  },
  {
   "cell_type": "code",
   "execution_count": 3,
   "metadata": {
    "ExecuteTime": {
     "end_time": "2022-03-31T06:18:49.891853Z",
     "start_time": "2022-03-31T06:18:49.552527Z"
    }
   },
   "outputs": [
    {
     "name": "stderr",
     "output_type": "stream",
     "text": [
      "findfont: Font family ['Raleway'] not found. Falling back to DejaVu Sans.\n",
      "findfont: Font family ['Lato'] not found. Falling back to DejaVu Sans.\n"
     ]
    }
   ],
   "source": [
    "import SEACells"
   ]
  },
  {
   "cell_type": "markdown",
   "metadata": {
    "button": false,
    "new_sheet": false
   },
   "source": [
    "# Load data"
   ]
  },
  {
   "cell_type": "markdown",
   "metadata": {},
   "source": [
    "This section loads all the results from ArchR to generate an Anndata object"
   ]
  },
  {
   "cell_type": "markdown",
   "metadata": {
    "button": false,
    "new_sheet": false
   },
   "source": [
    "## ATAC"
   ]
  },
  {
   "cell_type": "code",
   "execution_count": 6,
   "metadata": {
    "ExecuteTime": {
     "end_time": "2022-01-24T00:53:51.516393Z",
     "start_time": "2022-01-24T00:53:51.513706Z"
    },
    "button": false,
    "new_sheet": false
   },
   "outputs": [],
   "source": [
    "data_dir = os.path.expanduser('/wynton/group/pollen/jding/brainchromatin/multiome/ArchR/seacells_nfr/export/')"
   ]
  },
  {
   "cell_type": "code",
   "execution_count": 4,
   "metadata": {
    "ExecuteTime": {
     "end_time": "2022-01-24T00:53:51.516393Z",
     "start_time": "2022-01-24T00:53:51.513706Z"
    },
    "button": false,
    "new_sheet": false
   },
   "outputs": [],
   "source": [
    "data_dir = os.path.expanduser('/wynton/group/pollen/jding/brainchromatin/multiome/ArchR/seacells/export/')"
   ]
  },
  {
   "cell_type": "markdown",
   "metadata": {
    "button": false,
    "new_sheet": false
   },
   "source": [
    "Load all the exported results from ArchR"
   ]
  },
  {
   "cell_type": "markdown",
   "metadata": {
    "button": false,
    "new_sheet": false
   },
   "source": [
    "### Peaks data"
   ]
  },
  {
   "cell_type": "code",
   "execution_count": 5,
   "metadata": {
    "ExecuteTime": {
     "end_time": "2022-01-24T02:12:11.007282Z",
     "start_time": "2022-01-24T02:11:05.059843Z"
    },
    "button": false,
    "new_sheet": false
   },
   "outputs": [],
   "source": [
    "# Peaks data\n",
    "from scipy.io import mmread\n",
    "counts = mmread(data_dir + 'peak_counts/counts.mtx')"
   ]
  },
  {
   "cell_type": "code",
   "execution_count": 6,
   "metadata": {
    "ExecuteTime": {
     "end_time": "2022-01-24T02:12:11.776029Z",
     "start_time": "2022-01-24T02:12:11.010163Z"
    },
    "button": false,
    "new_sheet": false
   },
   "outputs": [
    {
     "data": {
      "text/html": [
       "<div>\n",
       "<style scoped>\n",
       "    .dataframe tbody tr th:only-of-type {\n",
       "        vertical-align: middle;\n",
       "    }\n",
       "\n",
       "    .dataframe tbody tr th {\n",
       "        vertical-align: top;\n",
       "    }\n",
       "\n",
       "    .dataframe thead th {\n",
       "        text-align: right;\n",
       "    }\n",
       "</style>\n",
       "<table border=\"1\" class=\"dataframe\">\n",
       "  <thead>\n",
       "    <tr style=\"text-align: right;\">\n",
       "      <th></th>\n",
       "      <th>seqnames</th>\n",
       "      <th>start</th>\n",
       "      <th>end</th>\n",
       "      <th>width</th>\n",
       "      <th>strand</th>\n",
       "      <th>score</th>\n",
       "      <th>replicateScoreQuantile</th>\n",
       "      <th>groupScoreQuantile</th>\n",
       "      <th>Reproducibility</th>\n",
       "      <th>GroupReplicate</th>\n",
       "      <th>nearestGene</th>\n",
       "      <th>distToGeneStart</th>\n",
       "      <th>peakType</th>\n",
       "      <th>distToTSS</th>\n",
       "      <th>nearestTSS</th>\n",
       "      <th>GC</th>\n",
       "      <th>idx</th>\n",
       "      <th>N</th>\n",
       "    </tr>\n",
       "  </thead>\n",
       "  <tbody>\n",
       "    <tr>\n",
       "      <th>chr1:817083-817583</th>\n",
       "      <td>chr1</td>\n",
       "      <td>817083</td>\n",
       "      <td>817583</td>\n",
       "      <td>501</td>\n",
       "      <td>*</td>\n",
       "      <td>11.16000</td>\n",
       "      <td>0.911</td>\n",
       "      <td>0.702</td>\n",
       "      <td>2</td>\n",
       "      <td>C19._.Rep2</td>\n",
       "      <td>FAM87B</td>\n",
       "      <td>38</td>\n",
       "      <td>Promoter</td>\n",
       "      <td>37</td>\n",
       "      <td>uc057aum.1</td>\n",
       "      <td>0.4770</td>\n",
       "      <td>1</td>\n",
       "      <td>0</td>\n",
       "    </tr>\n",
       "    <tr>\n",
       "      <th>chr1:826707-827207</th>\n",
       "      <td>chr1</td>\n",
       "      <td>826707</td>\n",
       "      <td>827207</td>\n",
       "      <td>501</td>\n",
       "      <td>*</td>\n",
       "      <td>2.23785</td>\n",
       "      <td>0.221</td>\n",
       "      <td>0.044</td>\n",
       "      <td>2</td>\n",
       "      <td>C3._.hft_ctx_w21_dc2r2_r2</td>\n",
       "      <td>LINC01128</td>\n",
       "      <td>1819</td>\n",
       "      <td>Exonic</td>\n",
       "      <td>124</td>\n",
       "      <td>uc057auo.1</td>\n",
       "      <td>0.6088</td>\n",
       "      <td>2</td>\n",
       "      <td>0</td>\n",
       "    </tr>\n",
       "    <tr>\n",
       "      <th>chr1:827277-827777</th>\n",
       "      <td>chr1</td>\n",
       "      <td>827277</td>\n",
       "      <td>827777</td>\n",
       "      <td>501</td>\n",
       "      <td>*</td>\n",
       "      <td>77.40670</td>\n",
       "      <td>0.899</td>\n",
       "      <td>0.856</td>\n",
       "      <td>2</td>\n",
       "      <td>C6._.hft_ctx_w21_dc2r2_r2</td>\n",
       "      <td>LINC01128</td>\n",
       "      <td>2389</td>\n",
       "      <td>Promoter</td>\n",
       "      <td>4</td>\n",
       "      <td>uc057auo.1</td>\n",
       "      <td>0.6866</td>\n",
       "      <td>3</td>\n",
       "      <td>0</td>\n",
       "    </tr>\n",
       "    <tr>\n",
       "      <th>chr1:858594-859094</th>\n",
       "      <td>chr1</td>\n",
       "      <td>858594</td>\n",
       "      <td>859094</td>\n",
       "      <td>501</td>\n",
       "      <td>*</td>\n",
       "      <td>5.96004</td>\n",
       "      <td>0.365</td>\n",
       "      <td>0.180</td>\n",
       "      <td>2</td>\n",
       "      <td>C12._.hft_ctx_w21_dc2r2_r1</td>\n",
       "      <td>LINC01128</td>\n",
       "      <td>33706</td>\n",
       "      <td>Exonic</td>\n",
       "      <td>7495</td>\n",
       "      <td>uc057auo.1</td>\n",
       "      <td>0.5369</td>\n",
       "      <td>4</td>\n",
       "      <td>0</td>\n",
       "    </tr>\n",
       "    <tr>\n",
       "      <th>chr1:869643-870143</th>\n",
       "      <td>chr1</td>\n",
       "      <td>869643</td>\n",
       "      <td>870143</td>\n",
       "      <td>501</td>\n",
       "      <td>*</td>\n",
       "      <td>46.77340</td>\n",
       "      <td>0.792</td>\n",
       "      <td>0.727</td>\n",
       "      <td>3</td>\n",
       "      <td>C13._.hft_ctx_w21_dc1r3_r1</td>\n",
       "      <td>FAM41C</td>\n",
       "      <td>1822</td>\n",
       "      <td>Intronic</td>\n",
       "      <td>307</td>\n",
       "      <td>uc057aux.1</td>\n",
       "      <td>0.7226</td>\n",
       "      <td>5</td>\n",
       "      <td>0</td>\n",
       "    </tr>\n",
       "  </tbody>\n",
       "</table>\n",
       "</div>"
      ],
      "text/plain": [
       "                   seqnames   start     end  width strand     score  \\\n",
       "chr1:817083-817583     chr1  817083  817583    501      *  11.16000   \n",
       "chr1:826707-827207     chr1  826707  827207    501      *   2.23785   \n",
       "chr1:827277-827777     chr1  827277  827777    501      *  77.40670   \n",
       "chr1:858594-859094     chr1  858594  859094    501      *   5.96004   \n",
       "chr1:869643-870143     chr1  869643  870143    501      *  46.77340   \n",
       "\n",
       "                    replicateScoreQuantile  groupScoreQuantile  \\\n",
       "chr1:817083-817583                   0.911               0.702   \n",
       "chr1:826707-827207                   0.221               0.044   \n",
       "chr1:827277-827777                   0.899               0.856   \n",
       "chr1:858594-859094                   0.365               0.180   \n",
       "chr1:869643-870143                   0.792               0.727   \n",
       "\n",
       "                    Reproducibility              GroupReplicate nearestGene  \\\n",
       "chr1:817083-817583                2                  C19._.Rep2      FAM87B   \n",
       "chr1:826707-827207                2   C3._.hft_ctx_w21_dc2r2_r2   LINC01128   \n",
       "chr1:827277-827777                2   C6._.hft_ctx_w21_dc2r2_r2   LINC01128   \n",
       "chr1:858594-859094                2  C12._.hft_ctx_w21_dc2r2_r1   LINC01128   \n",
       "chr1:869643-870143                3  C13._.hft_ctx_w21_dc1r3_r1      FAM41C   \n",
       "\n",
       "                    distToGeneStart  peakType  distToTSS  nearestTSS      GC  \\\n",
       "chr1:817083-817583               38  Promoter         37  uc057aum.1  0.4770   \n",
       "chr1:826707-827207             1819    Exonic        124  uc057auo.1  0.6088   \n",
       "chr1:827277-827777             2389  Promoter          4  uc057auo.1  0.6866   \n",
       "chr1:858594-859094            33706    Exonic       7495  uc057auo.1  0.5369   \n",
       "chr1:869643-870143             1822  Intronic        307  uc057aux.1  0.7226   \n",
       "\n",
       "                    idx  N  \n",
       "chr1:817083-817583    1  0  \n",
       "chr1:826707-827207    2  0  \n",
       "chr1:827277-827777    3  0  \n",
       "chr1:858594-859094    4  0  \n",
       "chr1:869643-870143    5  0  "
      ]
     },
     "execution_count": 6,
     "metadata": {},
     "output_type": "execute_result"
    }
   ],
   "source": [
    "# Cell and peak information\n",
    "cells = pd.read_csv(data_dir + 'peak_counts/cells.csv', index_col=0).iloc[:, 0]\n",
    "peaks = pd.read_csv(data_dir + 'peak_counts/peaks.csv', index_col=0)\n",
    "peaks.index = peaks['seqnames'] + ':' + peaks['start'].astype(str) + '-' + peaks['end'].astype(str)\n",
    "peaks.head()"
   ]
  },
  {
   "cell_type": "code",
   "execution_count": 7,
   "metadata": {
    "ExecuteTime": {
     "end_time": "2022-01-24T02:12:20.424915Z",
     "start_time": "2022-01-24T02:12:11.778016Z"
    },
    "button": false,
    "new_sheet": false
   },
   "outputs": [
    {
     "name": "stderr",
     "output_type": "stream",
     "text": [
      "/scratch/jding/ipykernel_23211/1812160205.py:1: FutureWarning: X.dtype being converted to np.float32 from int64. In the next version of anndata (0.9) conversion will not be automatic. Pass dtype explicitly to avoid this warning. Pass `AnnData(X, dtype=X.dtype, ...)` to get the future behavour.\n",
      "  ad = sc.AnnData(counts.T)\n"
     ]
    }
   ],
   "source": [
    "ad = sc.AnnData(counts.T)\n",
    "ad.obs_names = cells\n",
    "ad.var_names = peaks.index\n",
    "for col in peaks.columns:\n",
    "    ad.var[col] = peaks[col]"
   ]
  },
  {
   "cell_type": "code",
   "execution_count": 8,
   "metadata": {
    "ExecuteTime": {
     "end_time": "2022-01-24T02:12:21.721112Z",
     "start_time": "2022-01-24T02:12:20.428687Z"
    },
    "button": false,
    "new_sheet": false
   },
   "outputs": [],
   "source": [
    "ad.X = ad.X.tocsr()"
   ]
  },
  {
   "cell_type": "code",
   "execution_count": 9,
   "metadata": {
    "ExecuteTime": {
     "end_time": "2022-01-24T02:12:21.728775Z",
     "start_time": "2022-01-24T02:12:21.723528Z"
    },
    "button": false,
    "new_sheet": false
   },
   "outputs": [
    {
     "data": {
      "text/plain": [
       "AnnData object with n_obs × n_vars = 8286 × 260363\n",
       "    var: 'seqnames', 'start', 'end', 'width', 'strand', 'score', 'replicateScoreQuantile', 'groupScoreQuantile', 'Reproducibility', 'GroupReplicate', 'nearestGene', 'distToGeneStart', 'peakType', 'distToTSS', 'nearestTSS', 'GC', 'idx', 'N'"
      ]
     },
     "execution_count": 9,
     "metadata": {},
     "output_type": "execute_result"
    }
   ],
   "source": [
    "ad"
   ]
  },
  {
   "cell_type": "markdown",
   "metadata": {
    "button": false,
    "new_sheet": false
   },
   "source": [
    "### SVD"
   ]
  },
  {
   "cell_type": "code",
   "execution_count": 10,
   "metadata": {
    "ExecuteTime": {
     "end_time": "2022-01-24T02:12:21.846728Z",
     "start_time": "2022-01-24T02:12:21.732033Z"
    },
    "button": false,
    "new_sheet": false
   },
   "outputs": [],
   "source": [
    "ad.obsm['X_svd'] = pd.read_csv(data_dir + 'svd.csv', index_col=0).loc[ad.obs_names, : ].values"
   ]
  },
  {
   "cell_type": "markdown",
   "metadata": {
    "button": false,
    "new_sheet": false
   },
   "source": [
    "### Metadata"
   ]
  },
  {
   "cell_type": "code",
   "execution_count": 11,
   "metadata": {
    "ExecuteTime": {
     "end_time": "2022-01-24T02:12:21.902630Z",
     "start_time": "2022-01-24T02:12:21.849382Z"
    },
    "button": false,
    "new_sheet": false
   },
   "outputs": [],
   "source": [
    "cell_meta = pd.read_csv(data_dir + 'cell_metadata.csv', index_col=0).loc[ad.obs_names, : ]\n",
    "for col in cell_meta.columns:\n",
    "    ad.obs[col] = cell_meta[col].values"
   ]
  },
  {
   "cell_type": "code",
   "execution_count": 12,
   "metadata": {
    "ExecuteTime": {
     "end_time": "2022-01-24T02:12:21.910554Z",
     "start_time": "2022-01-24T02:12:21.906153Z"
    },
    "button": false,
    "new_sheet": false
   },
   "outputs": [
    {
     "data": {
      "text/plain": [
       "AnnData object with n_obs × n_vars = 8286 × 260363\n",
       "    obs: 'Sample', 'TSSEnrichment', 'ReadsInTSS', 'ReadsInPromoter', 'ReadsInBlacklist', 'PromoterRatio', 'PassQC', 'NucleosomeRatio', 'nMultiFrags', 'nMonoFrags', 'nFrags', 'nDiFrags', 'BlacklistRatio', 'Clusters', 'ReadsInPeaks', 'FRIP'\n",
       "    var: 'seqnames', 'start', 'end', 'width', 'strand', 'score', 'replicateScoreQuantile', 'groupScoreQuantile', 'Reproducibility', 'GroupReplicate', 'nearestGene', 'distToGeneStart', 'peakType', 'distToTSS', 'nearestTSS', 'GC', 'idx', 'N'\n",
       "    obsm: 'X_svd'"
      ]
     },
     "execution_count": 12,
     "metadata": {},
     "output_type": "execute_result"
    }
   ],
   "source": [
    "ad"
   ]
  },
  {
   "cell_type": "markdown",
   "metadata": {
    "button": false,
    "new_sheet": false
   },
   "source": [
    "### Gene scores"
   ]
  },
  {
   "cell_type": "code",
   "execution_count": 13,
   "metadata": {
    "ExecuteTime": {
     "end_time": "2022-01-24T02:22:44.815042Z",
     "start_time": "2022-01-24T02:21:21.076330Z"
    },
    "button": false,
    "new_sheet": false
   },
   "outputs": [],
   "source": [
    "# Gene scores\n",
    "gene_scores = pd.read_csv(data_dir + 'gene_scores.csv', index_col=0).T"
   ]
  },
  {
   "cell_type": "code",
   "execution_count": 14,
   "metadata": {
    "ExecuteTime": {
     "end_time": "2022-01-24T02:22:46.094634Z",
     "start_time": "2022-01-24T02:22:44.818736Z"
    },
    "button": false,
    "new_sheet": false
   },
   "outputs": [],
   "source": [
    "ad.obsm['GeneScores'] = gene_scores.loc[ad.obs_names, :].values\n",
    "ad.uns['GeneScoresColums'] = gene_scores.columns.values"
   ]
  },
  {
   "cell_type": "code",
   "execution_count": 15,
   "metadata": {
    "ExecuteTime": {
     "end_time": "2022-01-24T02:22:46.104644Z",
     "start_time": "2022-01-24T02:22:46.096391Z"
    },
    "button": false,
    "new_sheet": false
   },
   "outputs": [
    {
     "data": {
      "text/plain": [
       "AnnData object with n_obs × n_vars = 8286 × 260363\n",
       "    obs: 'Sample', 'TSSEnrichment', 'ReadsInTSS', 'ReadsInPromoter', 'ReadsInBlacklist', 'PromoterRatio', 'PassQC', 'NucleosomeRatio', 'nMultiFrags', 'nMonoFrags', 'nFrags', 'nDiFrags', 'BlacklistRatio', 'Clusters', 'ReadsInPeaks', 'FRIP'\n",
       "    var: 'seqnames', 'start', 'end', 'width', 'strand', 'score', 'replicateScoreQuantile', 'groupScoreQuantile', 'Reproducibility', 'GroupReplicate', 'nearestGene', 'distToGeneStart', 'peakType', 'distToTSS', 'nearestTSS', 'GC', 'idx', 'N'\n",
       "    uns: 'GeneScoresColums'\n",
       "    obsm: 'X_svd', 'GeneScores'"
      ]
     },
     "execution_count": 15,
     "metadata": {},
     "output_type": "execute_result"
    }
   ],
   "source": [
    "ad"
   ]
  },
  {
   "cell_type": "markdown",
   "metadata": {
    "button": false,
    "new_sheet": false
   },
   "source": [
    "# Visualizations"
   ]
  },
  {
   "cell_type": "code",
   "execution_count": 16,
   "metadata": {
    "ExecuteTime": {
     "end_time": "2022-01-24T02:23:27.924858Z",
     "start_time": "2022-01-24T02:22:46.114709Z"
    },
    "button": false,
    "new_sheet": false
   },
   "outputs": [],
   "source": [
    "# Leiden and UMAP\n",
    "warnings.filterwarnings('ignore')\n",
    "sc.pp.neighbors(ad, use_rep='X_svd')\n",
    "sc.tl.umap(ad)\n",
    "sc.tl.leiden(ad)\n",
    "warnings.filterwarnings('default')"
   ]
  },
  {
   "cell_type": "code",
   "execution_count": 19,
   "metadata": {
    "ExecuteTime": {
     "end_time": "2022-01-24T02:23:46.698817Z",
     "start_time": "2022-01-24T02:23:44.925758Z"
    },
    "button": false,
    "new_sheet": false,
    "tags": []
   },
   "outputs": [
    {
     "ename": "ValueError",
     "evalue": "key 'phenograph' is invalid! pass valid observation annotation, one of ['Sample', 'TSSEnrichment', 'ReadsInTSS', 'ReadsInPromoter', 'ReadsInBlacklist', 'PromoterRatio', 'PassQC', 'NucleosomeRatio', 'nMultiFrags', 'nMonoFrags', 'nFrags', 'nDiFrags', 'BlacklistRatio', 'celltype', 'Clusters', 'ReadsInPeaks', 'FRIP', 'leiden'] or a gene name Index(['chr1:827236-827736', 'chr1:869647-870147', 'chr1:904511-905011',\n       'chr1:905189-905689', 'chr1:909918-910418', 'chr1:912789-913289',\n       'chr1:916484-916984', 'chr1:919549-920049', 'chr1:920980-921480',\n       'chr1:923600-924100',\n       ...\n       'chrX:155778767-155779267', 'chrX:155820024-155820524',\n       'chrX:155845178-155845678', 'chrX:155871832-155872332',\n       'chrX:155881028-155881528', 'chrX:155891826-155892326',\n       'chrX:155905550-155906050', 'chrX:155910246-155910746',\n       'chrX:155941897-155942397', 'chrX:155956603-155957103'],\n      dtype='object', length=243018)",
     "output_type": "error",
     "traceback": [
      "\u001b[0;31m---------------------------------------------------------------------------\u001b[0m",
      "\u001b[0;31mValueError\u001b[0m                                Traceback (most recent call last)",
      "Cell \u001b[0;32mIn[19], line 1\u001b[0m\n\u001b[0;32m----> 1\u001b[0m \u001b[43msc\u001b[49m\u001b[38;5;241;43m.\u001b[39;49m\u001b[43mpl\u001b[49m\u001b[38;5;241;43m.\u001b[39;49m\u001b[43mscatter\u001b[49m\u001b[43m(\u001b[49m\u001b[43mad\u001b[49m\u001b[43m,\u001b[49m\u001b[43m \u001b[49m\u001b[43mbasis\u001b[49m\u001b[38;5;241;43m=\u001b[39;49m\u001b[38;5;124;43m'\u001b[39;49m\u001b[38;5;124;43mumap\u001b[39;49m\u001b[38;5;124;43m'\u001b[39;49m\u001b[43m,\u001b[49m\u001b[43m \u001b[49m\u001b[43mcolor\u001b[49m\u001b[38;5;241;43m=\u001b[39;49m\u001b[43m[\u001b[49m\u001b[38;5;124;43m'\u001b[39;49m\u001b[38;5;124;43mcelltype\u001b[39;49m\u001b[38;5;124;43m'\u001b[39;49m\u001b[43m,\u001b[49m\u001b[43m \u001b[49m\u001b[38;5;124;43m'\u001b[39;49m\u001b[38;5;124;43mphenograph\u001b[39;49m\u001b[38;5;124;43m'\u001b[39;49m\u001b[43m]\u001b[49m\u001b[43m)\u001b[49m\n",
      "File \u001b[0;32m~/miniconda3/envs/seacells/lib/python3.8/site-packages/scanpy/plotting/_anndata.py:125\u001b[0m, in \u001b[0;36mscatter\u001b[0;34m(adata, x, y, color, use_raw, layers, sort_order, alpha, basis, groups, components, projection, legend_loc, legend_fontsize, legend_fontweight, legend_fontoutline, color_map, palette, frameon, right_margin, left_margin, size, title, show, save, ax)\u001b[0m\n\u001b[1;32m    123\u001b[0m args \u001b[38;5;241m=\u001b[39m \u001b[38;5;28mlocals\u001b[39m()\n\u001b[1;32m    124\u001b[0m \u001b[38;5;28;01mif\u001b[39;00m basis \u001b[38;5;129;01mis\u001b[39;00m \u001b[38;5;129;01mnot\u001b[39;00m \u001b[38;5;28;01mNone\u001b[39;00m:\n\u001b[0;32m--> 125\u001b[0m     \u001b[38;5;28;01mreturn\u001b[39;00m \u001b[43m_scatter_obs\u001b[49m\u001b[43m(\u001b[49m\u001b[38;5;241;43m*\u001b[39;49m\u001b[38;5;241;43m*\u001b[39;49m\u001b[43margs\u001b[49m\u001b[43m)\u001b[49m\n\u001b[1;32m    126\u001b[0m \u001b[38;5;28;01mif\u001b[39;00m x \u001b[38;5;129;01mis\u001b[39;00m \u001b[38;5;28;01mNone\u001b[39;00m \u001b[38;5;129;01mor\u001b[39;00m y \u001b[38;5;129;01mis\u001b[39;00m \u001b[38;5;28;01mNone\u001b[39;00m:\n\u001b[1;32m    127\u001b[0m     \u001b[38;5;28;01mraise\u001b[39;00m \u001b[38;5;167;01mValueError\u001b[39;00m(\u001b[38;5;124m'\u001b[39m\u001b[38;5;124mEither provide a `basis` or `x` and `y`.\u001b[39m\u001b[38;5;124m'\u001b[39m)\n",
      "File \u001b[0;32m~/miniconda3/envs/seacells/lib/python3.8/site-packages/scanpy/plotting/_anndata.py:325\u001b[0m, in \u001b[0;36m_scatter_obs\u001b[0;34m(adata, x, y, color, use_raw, layers, sort_order, alpha, basis, groups, components, projection, legend_loc, legend_fontsize, legend_fontweight, legend_fontoutline, color_map, palette, frameon, right_margin, left_margin, size, title, show, save, ax)\u001b[0m\n\u001b[1;32m    323\u001b[0m     colorbar \u001b[38;5;241m=\u001b[39m \u001b[38;5;28;01mFalse\u001b[39;00m\n\u001b[1;32m    324\u001b[0m \u001b[38;5;28;01melse\u001b[39;00m:\n\u001b[0;32m--> 325\u001b[0m     \u001b[38;5;28;01mraise\u001b[39;00m \u001b[38;5;167;01mValueError\u001b[39;00m(\n\u001b[1;32m    326\u001b[0m         \u001b[38;5;124mf\u001b[39m\u001b[38;5;124m'\u001b[39m\u001b[38;5;124mkey \u001b[39m\u001b[38;5;132;01m{\u001b[39;00mkey\u001b[38;5;132;01m!r}\u001b[39;00m\u001b[38;5;124m is invalid! pass valid observation annotation, \u001b[39m\u001b[38;5;124m'\u001b[39m\n\u001b[1;32m    327\u001b[0m         \u001b[38;5;124mf\u001b[39m\u001b[38;5;124m'\u001b[39m\u001b[38;5;124mone of \u001b[39m\u001b[38;5;132;01m{\u001b[39;00madata\u001b[38;5;241m.\u001b[39mobs_keys()\u001b[38;5;132;01m}\u001b[39;00m\u001b[38;5;124m or a gene name \u001b[39m\u001b[38;5;132;01m{\u001b[39;00madata\u001b[38;5;241m.\u001b[39mvar_names\u001b[38;5;132;01m}\u001b[39;00m\u001b[38;5;124m'\u001b[39m\n\u001b[1;32m    328\u001b[0m     )\n\u001b[1;32m    329\u001b[0m \u001b[38;5;28;01mif\u001b[39;00m colorbar \u001b[38;5;129;01mis\u001b[39;00m \u001b[38;5;28;01mNone\u001b[39;00m:\n\u001b[1;32m    330\u001b[0m     colorbar \u001b[38;5;241m=\u001b[39m \u001b[38;5;129;01mnot\u001b[39;00m categorical\n",
      "\u001b[0;31mValueError\u001b[0m: key 'phenograph' is invalid! pass valid observation annotation, one of ['Sample', 'TSSEnrichment', 'ReadsInTSS', 'ReadsInPromoter', 'ReadsInBlacklist', 'PromoterRatio', 'PassQC', 'NucleosomeRatio', 'nMultiFrags', 'nMonoFrags', 'nFrags', 'nDiFrags', 'BlacklistRatio', 'celltype', 'Clusters', 'ReadsInPeaks', 'FRIP', 'leiden'] or a gene name Index(['chr1:827236-827736', 'chr1:869647-870147', 'chr1:904511-905011',\n       'chr1:905189-905689', 'chr1:909918-910418', 'chr1:912789-913289',\n       'chr1:916484-916984', 'chr1:919549-920049', 'chr1:920980-921480',\n       'chr1:923600-924100',\n       ...\n       'chrX:155778767-155779267', 'chrX:155820024-155820524',\n       'chrX:155845178-155845678', 'chrX:155871832-155872332',\n       'chrX:155881028-155881528', 'chrX:155891826-155892326',\n       'chrX:155905550-155906050', 'chrX:155910246-155910746',\n       'chrX:155941897-155942397', 'chrX:155956603-155957103'],\n      dtype='object', length=243018)"
     ]
    }
   ],
   "source": [
    "sc.pl.scatter(ad, basis='umap', color=['celltype', 'phenograph'])"
   ]
  },
  {
   "cell_type": "markdown",
   "metadata": {
    "button": false,
    "new_sheet": false
   },
   "source": [
    "# Save"
   ]
  },
  {
   "cell_type": "markdown",
   "metadata": {},
   "source": [
    " Save the anndata object for downstream usage"
   ]
  },
  {
   "cell_type": "code",
   "execution_count": 20,
   "metadata": {
    "ExecuteTime": {
     "end_time": "2022-01-24T02:23:46.705441Z",
     "start_time": "2022-01-24T02:23:46.700649Z"
    },
    "button": false,
    "new_sheet": false
   },
   "outputs": [
    {
     "data": {
      "text/plain": [
       "AnnData object with n_obs × n_vars = 8181 × 243018\n",
       "    obs: 'Sample', 'TSSEnrichment', 'ReadsInTSS', 'ReadsInPromoter', 'ReadsInBlacklist', 'PromoterRatio', 'PassQC', 'NucleosomeRatio', 'nMultiFrags', 'nMonoFrags', 'nFrags', 'nDiFrags', 'BlacklistRatio', 'celltype', 'Clusters', 'ReadsInPeaks', 'FRIP', 'leiden'\n",
       "    var: 'seqnames', 'start', 'end', 'width', 'strand', 'score', 'replicateScoreQuantile', 'groupScoreQuantile', 'Reproducibility', 'GroupReplicate', 'nearestGene', 'distToGeneStart', 'peakType', 'distToTSS', 'nearestTSS', 'GC', 'idx', 'N'\n",
       "    uns: 'GeneScoresColums', 'neighbors', 'umap', 'leiden'\n",
       "    obsm: 'X_svd', 'GeneScores', 'X_umap'\n",
       "    obsp: 'distances', 'connectivities'"
      ]
     },
     "execution_count": 20,
     "metadata": {},
     "output_type": "execute_result"
    }
   ],
   "source": [
    "ad"
   ]
  },
  {
   "cell_type": "code",
   "execution_count": 17,
   "metadata": {
    "ExecuteTime": {
     "end_time": "2021-01-11T02:51:45.765397Z",
     "start_time": "2021-01-11T02:51:41.508239Z"
    },
    "button": false,
    "new_sheet": false
   },
   "outputs": [],
   "source": [
    "ad.write(data_dir + 'archr.h5ad')"
   ]
  },
  {
   "cell_type": "code",
   "execution_count": null,
   "metadata": {
    "button": false,
    "new_sheet": false
   },
   "outputs": [],
   "source": []
  }
 ],
 "metadata": {
  "hide_input": false,
  "kernelspec": {
   "display_name": "seacells",
   "language": "python",
   "name": "seacells"
  },
  "language_info": {
   "codemirror_mode": {
    "name": "ipython",
    "version": 3
   },
   "file_extension": ".py",
   "mimetype": "text/x-python",
   "name": "python",
   "nbconvert_exporter": "python",
   "pygments_lexer": "ipython3",
   "version": "3.8.16"
  },
  "toc": {
   "base_numbering": 1,
   "nav_menu": {},
   "number_sections": true,
   "sideBar": true,
   "skip_h1_title": false,
   "title_cell": "Table of Contents",
   "title_sidebar": "Contents",
   "toc_cell": false,
   "toc_position": {
    "height": "calc(100% - 180px)",
    "left": "10px",
    "top": "150px",
    "width": "340px"
   },
   "toc_section_display": true,
   "toc_window_display": true
  },
  "widgets": {
   "application/vnd.jupyter.widget-state+json": {
    "state": {},
    "version_major": 2,
    "version_minor": 0
   }
  }
 },
 "nbformat": 4,
 "nbformat_minor": 4
}
